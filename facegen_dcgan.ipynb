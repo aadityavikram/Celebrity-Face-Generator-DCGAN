{
  "nbformat": 4,
  "nbformat_minor": 0,
  "metadata": {
    "colab": {
      "name": "facegen_dcgan.ipynb",
      "provenance": [],
      "collapsed_sections": []
    },
    "kernelspec": {
      "name": "python3",
      "display_name": "Python 3"
    },
    "accelerator": "GPU"
  },
  "cells": [
    {
      "cell_type": "code",
      "metadata": {
        "id": "aPZWRaAy_cBj",
        "colab_type": "code",
        "colab": {}
      },
      "source": [
        "# importing libraries\n",
        "\n",
        "import os\n",
        "import torch\n",
        "import pickle\n",
        "import imageio\n",
        "import itertools\n",
        "import torch.nn as nn\n",
        "from PIL import Image\n",
        "import torch.optim as optim\n",
        "import matplotlib.pyplot as plt\n",
        "import torch.nn.functional as F\n",
        "from torchvision import datasets\n",
        "from torch.autograd import Variable\n",
        "from time import time, gmtime, strftime\n",
        "from torch.utils.data import DataLoader, Dataset\n",
        "from torchvision.transforms import Compose, ToTensor, Normalize"
      ],
      "execution_count": 0,
      "outputs": []
    },
    {
      "cell_type": "code",
      "metadata": {
        "id": "KuMHjU6iTgir",
        "colab_type": "code",
        "outputId": "64dd3a59-e0c7-4d36-c066-133587e99650",
        "colab": {
          "base_uri": "https://localhost:8080/",
          "height": 34
        }
      },
      "source": [
        "# copying and extracting dataset from drive\n",
        "\n",
        "import shutil\n",
        "\n",
        "if not os.path.exists('data'):\n",
        "    os.makedirs('data')\n",
        "src_file = 'drive/My Drive/celeb.zip'\n",
        "dst_file = 'data/celeb.zip'\n",
        "shutil.copyfile(src_file, dst_file)\n",
        "\n",
        "import zipfile\n",
        "\n",
        "zip_ref = zipfile.ZipFile(\"data/celeb.zip\", 'r')\n",
        "zip_ref.extractall(path='data')\n",
        "zip_ref.close()\n",
        "\n",
        "os.remove('data/celeb.zip')\n",
        "\n",
        "!ls"
      ],
      "execution_count": 2,
      "outputs": [
        {
          "output_type": "stream",
          "text": [
            "data  drive  sample_data\n"
          ],
          "name": "stdout"
        }
      ]
    },
    {
      "cell_type": "code",
      "metadata": {
        "id": "u7n5kF7u_57Y",
        "colab_type": "code",
        "colab": {}
      },
      "source": [
        "# generator and discriminator architectures\n",
        "\n",
        "class Discriminator(nn.Module):\n",
        "    def __init__(self, ip=3, hidden=128, op=1):\n",
        "        super(Discriminator, self).__init__()\n",
        "        self.conv1 = nn.Conv2d(ip, hidden, 4, 2, 1)\n",
        "        self.conv2 = nn.Conv2d(hidden, hidden * 2, 4, 2, 1)\n",
        "        self.conv3 = nn.Conv2d(hidden * 2, hidden * 4, 4, 2, 1)\n",
        "        self.conv4 = nn.Conv2d(hidden * 4, hidden * 8, 4, 2, 1)\n",
        "        self.conv5 = nn.Conv2d(hidden * 8, op, 4, 1, 0)\n",
        "        self.bn1 = nn.BatchNorm2d(hidden)\n",
        "        self.bn2 = nn.BatchNorm2d(hidden * 2)\n",
        "        self.bn3 = nn.BatchNorm2d(hidden * 4)\n",
        "        self.bn4 = nn.BatchNorm2d(hidden * 8)\n",
        "\n",
        "    # weight_init\n",
        "    def weight_init(self, mean, std):\n",
        "        for m in self._modules:\n",
        "            self._modules[m].weight.data.normal_(mean, std)\n",
        "            self._modules[m].bias.data.zero_()\n",
        "\n",
        "    def forward(self, x):\n",
        "        x = self.conv1(x)\n",
        "        x = F.leaky_relu(x, 0.2)\n",
        "        x = self.conv2(x)\n",
        "        x = self.bn2(x)\n",
        "        x = F.leaky_relu(x, 0.2)\n",
        "        x = self.conv3(x)\n",
        "        x = self.bn3(x)\n",
        "        x = F.leaky_relu(x, 0.2)\n",
        "        x = self.conv4(x)\n",
        "        x = self.bn4(x)\n",
        "        x = F.leaky_relu(x, 0.2)\n",
        "        x = self.conv5(x)\n",
        "        x = torch.sigmoid(x)\n",
        "        return x\n",
        "\n",
        "\n",
        "class Generator(nn.Module):\n",
        "    def __init__(self, ip=100, hidden=128, op=3):\n",
        "        super(Generator, self).__init__()\n",
        "        self.deconv1 = nn.ConvTranspose2d(ip, hidden * 8, 4, 1, 0)\n",
        "        self.deconv2 = nn.ConvTranspose2d(hidden * 8, hidden * 4, 4, 2, 1)\n",
        "        self.deconv3 = nn.ConvTranspose2d(hidden * 4, hidden * 2, 4, 2, 1)\n",
        "        self.deconv4 = nn.ConvTranspose2d(hidden * 2, hidden, 4, 2, 1)\n",
        "        self.deconv5 = nn.ConvTranspose2d(hidden, op, 4, 2, 1)\n",
        "        self.bn1 = nn.BatchNorm2d(hidden * 8)\n",
        "        self.bn2 = nn.BatchNorm2d(hidden * 4)\n",
        "        self.bn3 = nn.BatchNorm2d(hidden * 2)\n",
        "        self.bn4 = nn.BatchNorm2d(hidden)\n",
        "\n",
        "    # weight_init\n",
        "    def weight_init(self, mean, std):\n",
        "        for m in self._modules:\n",
        "            self._modules[m].weight.data.normal_(mean, std)\n",
        "            self._modules[m].bias.data.zero_()\n",
        "\n",
        "    def forward(self, x):\n",
        "        x = self.deconv1(x)\n",
        "        x = self.bn1(x)\n",
        "        x = F.relu(x)\n",
        "        x = self.deconv2(x)\n",
        "        x = self.bn2(x)\n",
        "        x = F.relu(x)\n",
        "        x = self.deconv3(x)\n",
        "        x = self.bn3(x)\n",
        "        x = F.relu(x)\n",
        "        x = self.deconv4(x)\n",
        "        x = self.bn4(x)\n",
        "        x = F.relu(x)\n",
        "        x = self.deconv5(x)\n",
        "        x = torch.tanh(x)\n",
        "        return x"
      ],
      "execution_count": 0,
      "outputs": []
    },
    {
      "cell_type": "code",
      "metadata": {
        "id": "KhCeHSeJAOz4",
        "colab_type": "code",
        "colab": {}
      },
      "source": [
        "# utility functions\n",
        "\n",
        "'''\n",
        "> some utility functions to carry out post processing.\n",
        "> save results() saves resulting images after each epoch.\n",
        "> save checkpoint() saves generator and discriminator model after training ends. \n",
        "> create_gif() creates a gif of the save_results() images.\n",
        "> plot() creates the loss plot.\n",
        "'''\n",
        "\n",
        "def save_results(epoch, gen=None, show=False, save=False, path='result/output/output_{}.png', device='cuda'):\n",
        "    if not os.path.exists('result/output'):\n",
        "        os.makedirs('result/output')\n",
        "\n",
        "    fixed_noise = Variable(torch.randn((4 * 4, 100)).view(-1, 100, 1, 1).to(device))\n",
        "\n",
        "    gen.eval()\n",
        "    test_images = gen(fixed_noise)\n",
        "    gen.train()\n",
        "\n",
        "    size_figure_grid = 4\n",
        "    fig, ax = plt.subplots(size_figure_grid, size_figure_grid, figsize=(4, 4))\n",
        "    for i, j in itertools.product(range(size_figure_grid), range(size_figure_grid)):\n",
        "        ax[i, j].get_xaxis().set_visible(False)\n",
        "        ax[i, j].get_yaxis().set_visible(False)\n",
        "\n",
        "    for k in range(4 * 4):\n",
        "        i = k // 4\n",
        "        j = k % 4\n",
        "        ax[i, j].cla()\n",
        "        ax[i, j].imshow((test_images[k].cpu().data.numpy().transpose(1, 2, 0) + 1) / 2)\n",
        "\n",
        "    label = 'Epoch {0}'.format(epoch)\n",
        "    fig.text(0.5, 0.04, label, ha='center')\n",
        "\n",
        "    if save:\n",
        "        plt.savefig(path.format(epoch))\n",
        "    if show:\n",
        "        plt.show()\n",
        "    else:\n",
        "        plt.close()\n",
        "\n",
        "\n",
        "def save_checkpoint(gen=None, disc=None):\n",
        "    if not os.path.exists('model'):\n",
        "        os.makedirs('model')\n",
        "    torch.save(gen, \"model/gen.pt\")\n",
        "    torch.save(disc, \"model/disc.pt\")\n",
        "\n",
        "\n",
        "def create_gif(path='result/output'):\n",
        "    images = []\n",
        "    for files in os.listdir(path):\n",
        "        images.append(imageio.imread(os.path.join(path, files)))\n",
        "    imageio.mimsave('result/progress.gif', images, fps=5)\n",
        "\n",
        "\n",
        "def plot(show=False, save=False, path='result/loss_plot.png'):\n",
        "    if not os.path.exists('result/losses.pkl'):\n",
        "        print('Loss pickle not found')\n",
        "    else:\n",
        "        with open('result/losses.pkl', 'rb') as f:\n",
        "            losses = pickle.load(f)\n",
        "\n",
        "        if not os.path.exists('result'):\n",
        "            os.makedirs('result')\n",
        "\n",
        "        x = range(len(losses['disc_loss']))\n",
        "        y1 = losses['gen_loss']\n",
        "        y2 = losses['disc_loss']\n",
        "        plt.plot(x, y1, label='gen_loss')\n",
        "        plt.plot(x, y2, label='disc_loss')\n",
        "        plt.xlabel('Epoch')\n",
        "        plt.ylabel('Loss')\n",
        "        plt.legend(loc=4)\n",
        "        plt.grid(True)\n",
        "        plt.tight_layout()\n",
        "        if save:\n",
        "            plt.savefig(path)\n",
        "        if show:\n",
        "            plt.show()\n",
        "        else:\n",
        "            plt.close()"
      ],
      "execution_count": 0,
      "outputs": []
    },
    {
      "cell_type": "code",
      "metadata": {
        "id": "E0HHg5GZ_yEY",
        "colab_type": "code",
        "colab": {}
      },
      "source": [
        "# load the train and test data\n",
        "\n",
        "'''\n",
        "> this particular notebook works with MNIST dataset.\n",
        "> so this function downloads and loads the dataset for training.\n",
        "'''\n",
        "\n",
        "class LoadData(Dataset):\n",
        "    def __init__(self, root='', transform=None):\n",
        "        super(LoadData, self).__init__()\n",
        "        self.files = []\n",
        "        for img in os.listdir(root):\n",
        "            self.files.append(os.path.join(root, img))\n",
        "        self.transform = transform\n",
        "\n",
        "    def __getitem__(self, item):\n",
        "        img = Image.open(self.files[item])\n",
        "        img = self.transform(img)\n",
        "        return img\n",
        "\n",
        "    def __len__(self):\n",
        "        return len(self.files)\n",
        "\n",
        "def load_data(batch_size=32, source='data/celeb'):\n",
        "    train_data = datasets.ImageFolder(os.path.join(source, 'train'),\n",
        "                          Compose([ToTensor(),\n",
        "                                             Normalize(mean=[0.5], std=[0.5])\n",
        "                                            ])\n",
        "                         )\n",
        "\n",
        "    test_data = datasets.ImageFolder(os.path.join(source, 'test'),\n",
        "                         Compose([ToTensor(),\n",
        "                                            Normalize(mean=[0.5], std=[0.5])\n",
        "                                           ])\n",
        "                        )\n",
        "\n",
        "    train_loader = DataLoader(train_data,\n",
        "                              batch_size=batch_size,\n",
        "                              shuffle=True)\n",
        "\n",
        "    test_loader = DataLoader(test_data,\n",
        "                            batch_size=batch_size,\n",
        "                            shuffle=False)\n",
        "\n",
        "    return train_loader, test_loader"
      ],
      "execution_count": 0,
      "outputs": []
    },
    {
      "cell_type": "code",
      "metadata": {
        "id": "74zm9n8S_nz2",
        "colab_type": "code",
        "colab": {}
      },
      "source": [
        "# training function for generator and discriminator\n",
        "\n",
        "def train_gen(gen, disc, optimizer, criterion, x, device):\n",
        "    gen.zero_grad()\n",
        "\n",
        "    mini_batch = x.size()[0]\n",
        "    z = Variable(torch.randn((mini_batch, 100)).view(-1, 100, 1, 1).to(device))\n",
        "    y = Variable(torch.ones(mini_batch).to(device))\n",
        "\n",
        "    # forward pass\n",
        "    gen_op = gen(z)\n",
        "    disc_op = disc(gen_op).squeeze()\n",
        "    gen_loss = criterion(disc_op, y)\n",
        "\n",
        "    # backward pass optimizing only gen's param\n",
        "    gen_loss.backward()\n",
        "    optimizer.step()\n",
        "\n",
        "    return gen_loss.item()\n",
        "\n",
        "\n",
        "def train_disc(disc, gen, optimizer, criterion, x, device):\n",
        "    disc.zero_grad()\n",
        "\n",
        "    # training on real data\n",
        "    mini_batch = x.size()[0]\n",
        "    y_real = Variable(torch.ones(mini_batch).to(device))\n",
        "    x = Variable(x.to(device))\n",
        "\n",
        "    disc_op = disc(x).squeeze()\n",
        "    disc_real_loss = criterion(disc_op, y_real)\n",
        "\n",
        "    # training on fake data\n",
        "    z = Variable(torch.randn(mini_batch, 100).view(-1, 100, 1, 1).to(device))\n",
        "    gen_op = gen(z)\n",
        "    y_fake = Variable(torch.zeros(mini_batch).to(device))\n",
        "\n",
        "    disc_op = disc(gen_op).squeeze()\n",
        "    disc_fake_loss = criterion(disc_op, y_fake)\n",
        "\n",
        "    # backward pass optimizing only disc's param\n",
        "    disc_loss = disc_real_loss + disc_fake_loss\n",
        "    disc_loss.backward()\n",
        "    optimizer.step()\n",
        "\n",
        "    return disc_loss.item()"
      ],
      "execution_count": 0,
      "outputs": []
    },
    {
      "cell_type": "code",
      "metadata": {
        "id": "QVNHnBMZ_YUv",
        "colab_type": "code",
        "colab": {}
      },
      "source": [
        "# wrapper training function for GAN\n",
        "\n",
        "'''\n",
        "> starts the training of generator and discrimator.\n",
        "> saves the losses of both networks.\n",
        "> losses used later to plot loss graph.\n",
        "'''\n",
        "\n",
        "def train_gan(gen, disc, gen_opt, disc_opt, criterion, device, epoch, train_loader):\n",
        "    gen_loss = []\n",
        "    disc_loss = []\n",
        "\n",
        "    epoch_start = time()\n",
        "    for img, label in train_loader:\n",
        "        disc_loss.append(train_disc(disc, gen, disc_opt, criterion, img, device))\n",
        "        gen_loss.append(train_gen(gen, disc, gen_opt, criterion, img, device))\n",
        "\n",
        "    end = time() - epoch_start\n",
        "    print('epoch = {} | disc_loss = {:.6f} | gen_loss = {:.6f} | time elapsed in epoch = {}'.format(epoch + 1,\n",
        "                                                                                                   torch.mean(torch.FloatTensor(disc_loss)),\n",
        "                                                                                                   torch.mean(torch.FloatTensor(gen_loss)),\n",
        "                                                                                                   strftime(\"%H:%M:%S\", gmtime(end))))\n",
        "    return gen_loss, disc_loss"
      ],
      "execution_count": 0,
      "outputs": []
    },
    {
      "cell_type": "code",
      "metadata": {
        "id": "PbOQcgjo8h99",
        "colab_type": "code",
        "colab": {}
      },
      "source": [
        "# hyperparameters\n",
        "\n",
        "num_epochs = 20\n",
        "batch_size = 32\n",
        "lr = 0.0002"
      ],
      "execution_count": 0,
      "outputs": []
    },
    {
      "cell_type": "code",
      "metadata": {
        "id": "zB1NGZuK7mzK",
        "colab_type": "code",
        "outputId": "b6b99e7c-dd82-4822-dffa-bbfcce268ee8",
        "colab": {
          "base_uri": "https://localhost:8080/",
          "height": 268
        }
      },
      "source": [
        "# obtain one batch of training images\n",
        "import numpy as np\n",
        "\n",
        "def get_batch(batch_size=32, source='data/celeb'):\n",
        "    train_loader, test_loader = load_data(batch_size=batch_size, source=source)\n",
        "    dataiter = iter(train_loader)\n",
        "    images, labels = dataiter.next()\n",
        "    fig = plt.figure(figsize = (4,4)) \n",
        "    ax = fig.add_subplot(111)\n",
        "    ax.imshow((images[0].cpu().data.numpy().transpose(1, 2, 0) + 1) / 2)\n",
        "    \n",
        "get_batch()"
      ],
      "execution_count": 9,
      "outputs": [
        {
          "output_type": "display_data",
          "data": {
            "image/png": "[encoded data removed]",
            "text/plain": [
              "<Figure size 288x288 with 1 Axes>"
            ]
          },
          "metadata": {
            "tags": []
          }
        }
      ]
    },
    {
      "cell_type": "code",
      "metadata": {
        "id": "I0AsdNSc_QIh",
        "colab_type": "code",
        "colab": {}
      },
      "source": [
        "# main function\n",
        "\n",
        "def main():\n",
        "    print('Training on {}'.format(torch.cuda.get_device_name(0)))\n",
        "    torch.manual_seed(1)\n",
        "    device = torch.device('cuda')\n",
        "    total_loss = {'disc_loss': [], 'gen_loss': []}\n",
        "    gen = Generator(ip=100, hidden=128, op=3).to(device)\n",
        "    disc = Discriminator(ip=3, hidden=128, op=1).to(device)\n",
        "    # gen.weight_init(mean=0.0, std=0.02)\n",
        "    # disc.weight_init(mean=0.0, std=0.02)\n",
        "    gen_opt = optim.Adam(gen.parameters(), lr=lr, betas=(0.5, 0.999))\n",
        "    disc_opt = optim.Adam(disc.parameters(), lr=lr, betas=(0.5, 0.999))\n",
        "    criterion = nn.BCELoss()\n",
        "    train_loader, test_loader = load_data(batch_size=batch_size, source='data/celeb')\n",
        "\n",
        "    print('Dataset loaded. Training starts now....')\n",
        "    start = time()\n",
        "\n",
        "    for epoch in range(num_epochs):\n",
        "        gen_loss, disc_loss = train_gan(gen, disc, gen_opt, disc_opt, criterion, device, epoch, train_loader)\n",
        "        total_loss['gen_loss'].append(torch.mean(torch.FloatTensor(gen_loss)))\n",
        "        total_loss['disc_loss'].append(torch.mean(torch.FloatTensor(disc_loss)))\n",
        "\n",
        "        save_results(epoch, gen=gen, show=False, save=True, path='result/output/output_{}.png', device='cuda')\n",
        "    save_checkpoint(gen=gen, disc=disc)\n",
        "\n",
        "    end = time() - start\n",
        "    print('Training done | Time Elapsed --> {}'.format(strftime(\"%H:%M:%S\", gmtime(end))))\n",
        "\n",
        "    # saving losses\n",
        "    with open('result/losses.pkl', 'wb') as f:\n",
        "        pickle.dump(total_loss, f)"
      ],
      "execution_count": 0,
      "outputs": []
    },
    {
      "cell_type": "code",
      "metadata": {
        "colab_type": "code",
        "id": "tC67GiZe97gT",
        "outputId": "bab56cc7-2c0c-46a4-d06b-78af46d4fc54",
        "colab": {
          "base_uri": "https://localhost:8080/",
          "height": 490
        }
      },
      "source": [
        "main()"
      ],
      "execution_count": 13,
      "outputs": [
        {
          "output_type": "stream",
          "text": [
            "Training on Tesla P100-PCIE-16GB\n",
            "Dataset loaded. Training starts now....\n",
            "epoch = 1 | disc_loss = 0.839764 | gen_loss = 3.898379 | time elapsed in epoch = 00:04:27\n",
            "epoch = 2 | disc_loss = 0.477478 | gen_loss = 4.771756 | time elapsed in epoch = 00:04:26\n",
            "epoch = 3 | disc_loss = 0.331851 | gen_loss = 5.641393 | time elapsed in epoch = 00:04:25\n",
            "epoch = 4 | disc_loss = 0.274395 | gen_loss = 6.049836 | time elapsed in epoch = 00:04:25\n",
            "epoch = 5 | disc_loss = 0.252728 | gen_loss = 6.160390 | time elapsed in epoch = 00:04:25\n",
            "epoch = 6 | disc_loss = 0.254278 | gen_loss = 6.025185 | time elapsed in epoch = 00:04:26\n",
            "epoch = 7 | disc_loss = 0.225445 | gen_loss = 6.275041 | time elapsed in epoch = 00:04:26\n",
            "epoch = 8 | disc_loss = 0.226273 | gen_loss = 6.217601 | time elapsed in epoch = 00:04:27\n",
            "epoch = 9 | disc_loss = 0.204204 | gen_loss = 6.331687 | time elapsed in epoch = 00:04:27\n",
            "epoch = 10 | disc_loss = 0.202794 | gen_loss = 6.448558 | time elapsed in epoch = 00:04:26\n",
            "epoch = 11 | disc_loss = 0.162092 | gen_loss = 6.501776 | time elapsed in epoch = 00:04:26\n",
            "epoch = 12 | disc_loss = 0.184292 | gen_loss = 6.526733 | time elapsed in epoch = 00:04:26\n",
            "epoch = 13 | disc_loss = 0.151842 | gen_loss = 6.633696 | time elapsed in epoch = 00:04:26\n",
            "epoch = 14 | disc_loss = 0.147038 | gen_loss = 6.891418 | time elapsed in epoch = 00:04:26\n",
            "epoch = 15 | disc_loss = 0.143163 | gen_loss = 7.125296 | time elapsed in epoch = 00:04:27\n",
            "epoch = 16 | disc_loss = 0.108307 | gen_loss = 7.327460 | time elapsed in epoch = 00:04:26\n",
            "epoch = 17 | disc_loss = 0.154812 | gen_loss = 7.233159 | time elapsed in epoch = 00:04:25\n",
            "epoch = 18 | disc_loss = 0.087334 | gen_loss = 7.530570 | time elapsed in epoch = 00:04:26\n",
            "epoch = 19 | disc_loss = 0.000555 | gen_loss = 38.336254 | time elapsed in epoch = 00:04:26\n",
            "epoch = 20 | disc_loss = 0.000000 | gen_loss = 75.497299 | time elapsed in epoch = 00:04:26\n",
            "Training done | Time Elapsed --> 01:29:01\n"
          ],
          "name": "stdout"
        },
        {
          "output_type": "stream",
          "text": [
            "/usr/local/lib/python3.6/dist-packages/torch/serialization.py:360: UserWarning: Couldn't retrieve source code for container of type Generator. It won't be checked for correctness upon loading.\n",
            "  \"type \" + obj.__name__ + \". It won't be checked \"\n",
            "/usr/local/lib/python3.6/dist-packages/torch/serialization.py:360: UserWarning: Couldn't retrieve source code for container of type Discriminator. It won't be checked for correctness upon loading.\n",
            "  \"type \" + obj.__name__ + \". It won't be checked \"\n"
          ],
          "name": "stderr"
        }
      ]
    },
    {
      "cell_type": "code",
      "metadata": {
        "id": "wUOVG2tf6QY3",
        "colab_type": "code",
        "colab": {}
      },
      "source": [
        "create_gif(path='result/output')  # create gif of output images"
      ],
      "execution_count": 0,
      "outputs": []
    },
    {
      "cell_type": "code",
      "metadata": {
        "id": "DPGHtD-I6Blb",
        "colab_type": "code",
        "outputId": "54129de3-65a0-4248-e960-c4c58124ed19",
        "colab": {
          "base_uri": "https://localhost:8080/",
          "height": 297
        }
      },
      "source": [
        "plot(show=True, save=True, path='result/loss_plot.png')"
      ],
      "execution_count": 14,
      "outputs": [
        {
          "output_type": "display_data",
          "data": {
            "image/png": "[encoded data removed]",
            "text/plain": [
              "<Figure size 432x288 with 1 Axes>"
            ]
          },
          "metadata": {
            "tags": []
          }
        }
      ]
    },
    {
      "cell_type": "code",
      "metadata": {
        "id": "xJBxum_Cr8Su",
        "colab_type": "code",
        "colab": {}
      },
      "source": [
        "import shutil\n",
        "\n",
        "for dirs in os.listdir('.'):\n",
        "    if dirs == 'model' or dirs == 'result':\n",
        "        shutil.make_archive(dirs, 'zip', dirs)"
      ],
      "execution_count": 0,
      "outputs": []
    },
    {
      "cell_type": "code",
      "metadata": {
        "id": "K2oMLDy4FmDN",
        "colab_type": "code",
        "colab": {}
      },
      "source": [
        "# copy zip file back to drive\n",
        "\n",
        "import time\n",
        "import shutil\n",
        "\n",
        "start_time = time.time()\n",
        "\n",
        "src_file = 'model.zip'\n",
        "dst_file = 'drive/My Drive/model.zip'\n",
        "shutil.copyfile(src_file, dst_file)\n",
        "\n",
        "print('Copied Zip File to Drive | Time elapsed --> {} seconds'.format(time.time()-start_time))"
      ],
      "execution_count": 0,
      "outputs": []
    }
  ]
}